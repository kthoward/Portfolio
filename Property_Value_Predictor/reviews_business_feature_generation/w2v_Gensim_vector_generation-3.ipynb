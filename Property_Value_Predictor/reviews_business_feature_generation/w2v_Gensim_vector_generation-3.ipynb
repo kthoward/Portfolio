{
 "cells": [
  {
   "cell_type": "code",
   "execution_count": 30,
   "metadata": {
    "collapsed": true
   },
   "outputs": [],
   "source": [
    "import pandas as pd\n",
    "from gensim.parsing import preprocessing\n",
    "from gensim.summarization import textcleaner\n",
    "from gensim.models import word2vec\n",
    "from sklearn.preprocessing import normalize\n",
    "import numpy as np"
   ]
  },
  {
   "cell_type": "markdown",
   "metadata": {},
   "source": [
    "### Applying CBOW word2vec to text reviews "
   ]
  },
  {
   "cell_type": "markdown",
   "metadata": {},
   "source": [
    "#### Reading in the reviews"
   ]
  },
  {
   "cell_type": "code",
   "execution_count": 31,
   "metadata": {
    "collapsed": true
   },
   "outputs": [],
   "source": [
    "yelp = pd.read_csv('yelp_reviews_business_pre_vec_3_4_2016.csv')"
   ]
  },
  {
   "cell_type": "code",
   "execution_count": 33,
   "metadata": {
    "collapsed": true
   },
   "outputs": [],
   "source": [
    "yelp = yelp.iloc[:, 1:]"
   ]
  },
  {
   "cell_type": "markdown",
   "metadata": {},
   "source": [
    "#### Making sure all reviews are strings"
   ]
  },
  {
   "cell_type": "code",
   "execution_count": 35,
   "metadata": {
    "collapsed": true
   },
   "outputs": [],
   "source": [
    "yelp_txt_str = []\n",
    "for text in yelp['text']:\n",
    "    text = str(text)\n",
    "    yelp_txt_str.append(text)"
   ]
  },
  {
   "cell_type": "code",
   "execution_count": 37,
   "metadata": {
    "collapsed": true
   },
   "outputs": [],
   "source": [
    "yelp['text'] = yelp_txt_str"
   ]
  },
  {
   "cell_type": "code",
   "execution_count": 34,
   "metadata": {
    "collapsed": true
   },
   "outputs": [],
   "source": [
    "yelp_join = pd.DataFrame()"
   ]
  },
  {
   "cell_type": "markdown",
   "metadata": {},
   "source": [
    "#### Creating a minimal DataFrame"
   ]
  },
  {
   "cell_type": "code",
   "execution_count": 36,
   "metadata": {
    "collapsed": true
   },
   "outputs": [],
   "source": [
    "yelp_join = yelp[['business_id', 'text']]"
   ]
  },
  {
   "cell_type": "code",
   "execution_count": 38,
   "metadata": {
    "collapsed": true
   },
   "outputs": [],
   "source": [
    "yelp_join = yelp_join.set_index('business_id')"
   ]
  },
  {
   "cell_type": "code",
   "execution_count": 39,
   "metadata": {
    "collapsed": true
   },
   "outputs": [],
   "source": [
    "yelp_join = yelp_join.groupby('business_id').apply(np.sum)"
   ]
  },
  {
   "cell_type": "code",
   "execution_count": 40,
   "metadata": {
    "collapsed": true
   },
   "outputs": [],
   "source": [
    "def make_reviews_list(df):\n",
    "    reviews_list = []\n",
    "    for review in df['text']:\n",
    "        reviews_list.append(review)\n",
    "    return reviews_list"
   ]
  },
  {
   "cell_type": "code",
   "execution_count": 41,
   "metadata": {
    "collapsed": true
   },
   "outputs": [],
   "source": [
    "reviews_list = make_reviews_list(yelp_join)"
   ]
  },
  {
   "cell_type": "markdown",
   "metadata": {},
   "source": [
    "#### Generating tokens and lists of documents as well as sentences"
   ]
  },
  {
   "cell_type": "code",
   "execution_count": null,
   "metadata": {},
   "outputs": [],
   "source": [
    "docs = []\n",
    "all_sentences = []\n",
    "for i, text in enumerate(reviews_list):\n",
    "    sentences = textcleaner.split_sentences(text)\n",
    "    if i%1000 == 0:\n",
    "        print(i)\n",
    "    doc_tokens = []\n",
    "    for sent in sentences:\n",
    "        tokens = preprocessing.preprocess_string(sent)\n",
    "        all_sentences.append(tokens)\n",
    "        doc_tokens.extend(tokens)\n",
    "    docs.append(doc_tokens)"
   ]
  },
  {
   "cell_type": "markdown",
   "metadata": {},
   "source": [
    "#### Generating vectors"
   ]
  },
  {
   "cell_type": "code",
   "execution_count": 43,
   "metadata": {
    "collapsed": true
   },
   "outputs": [],
   "source": [
    "cbow_model = word2vec.Word2Vec(\n",
    "    all_sentences,     \n",
    "    min_count=15,   # Minimum word count threshold.\n",
    "    window=5,      # Number of words around target word to consider.\n",
    "    sg=0,          # cbow\n",
    "    sample=1e-3 ,  \n",
    "    size=500,      \n",
    "    hs=1           \n",
    ")"
   ]
  },
  {
   "cell_type": "markdown",
   "metadata": {},
   "source": [
    "#### Organizing vectors"
   ]
  },
  {
   "cell_type": "code",
   "execution_count": 44,
   "metadata": {
    "collapsed": true
   },
   "outputs": [],
   "source": [
    "def create_vector_list(array_shape, X):\n",
    "    vector_list = []\n",
    "    for review in X:\n",
    "        review_vector = np.zeros_like(array_shape)\n",
    "        for word in review:\n",
    "            word = word.lemma_ \n",
    "            if word in cbow_model.wv:\n",
    "                vector = cbow_model.wv[word]\n",
    "                review_vector += vector\n",
    "        norm = normalize(review_vector.reshape(1, -1))\n",
    "        norm = norm.flatten()\n",
    "        vector_list.append(norm)\n",
    "    return vector_list"
   ]
  },
  {
   "cell_type": "code",
   "execution_count": 45,
   "metadata": {},
   "outputs": [
    {
     "name": "stdout",
     "output_type": "stream",
     "text": [
      "500\n"
     ]
    }
   ],
   "source": [
    "x = cbow_model.wv['burger']\n",
    "print(len(x))\n",
    "vector_list = []\n",
    "X_w2v = vector_list\n",
    "for review in docs:\n",
    "    review_vector = np.zeros_like(x)\n",
    "    for word in review:\n",
    "        #tokens_word = preprocessing.preprocess_string(word)\n",
    "        #word = tokens_word.lemma_ \n",
    "        if word in cbow_model.wv:\n",
    "            vector = cbow_model.wv[word]\n",
    "            review_vector += vector\n",
    "    norm = normalize(review_vector.reshape(1, -1))\n",
    "    norm = norm.flatten()\n",
    "    vector_list.append(norm)"
   ]
  },
  {
   "cell_type": "markdown",
   "metadata": {},
   "source": [
    "#### Generating files to merge with the business data"
   ]
  },
  {
   "cell_type": "code",
   "execution_count": 46,
   "metadata": {
    "collapsed": true
   },
   "outputs": [],
   "source": [
    "yelp_join['w2v'] = X_w2v"
   ]
  },
  {
   "cell_type": "code",
   "execution_count": 47,
   "metadata": {
    "collapsed": true
   },
   "outputs": [],
   "source": [
    "yelp_join.to_csv('w2v_after_merge_3_5.csv')"
   ]
  },
  {
   "cell_type": "code",
   "execution_count": 48,
   "metadata": {
    "collapsed": true
   },
   "outputs": [],
   "source": [
    "df = pd.DataFrame(X_w2v)"
   ]
  },
  {
   "cell_type": "code",
   "execution_count": 50,
   "metadata": {
    "collapsed": true
   },
   "outputs": [],
   "source": [
    "yelp_join = yelp_join.drop('w2v', 1)"
   ]
  },
  {
   "cell_type": "code",
   "execution_count": 51,
   "metadata": {
    "collapsed": true
   },
   "outputs": [],
   "source": [
    "yelp_join = yelp_join.reset_index()"
   ]
  },
  {
   "cell_type": "code",
   "execution_count": 53,
   "metadata": {
    "collapsed": true
   },
   "outputs": [],
   "source": [
    "yelp_join = pd.merge(yelp_join, df, right_index=True, left_index=True, how='inner')"
   ]
  },
  {
   "cell_type": "code",
   "execution_count": 54,
   "metadata": {
    "collapsed": true
   },
   "outputs": [],
   "source": [
    "yelp_join = yelp_join.drop('text', 1)"
   ]
  },
  {
   "cell_type": "code",
   "execution_count": null,
   "metadata": {},
   "outputs": [],
   "source": [
    "yelp_join.to_csv('w2v_after_merge_3_5_2.csv')"
   ]
  }
 ],
 "metadata": {
  "kernelspec": {
   "display_name": "Python 3",
   "language": "python",
   "name": "python3"
  },
  "language_info": {
   "codemirror_mode": {
    "name": "ipython",
    "version": 3
   },
   "file_extension": ".py",
   "mimetype": "text/x-python",
   "name": "python",
   "nbconvert_exporter": "python",
   "pygments_lexer": "ipython3",
   "version": "3.6.1"
  }
 },
 "nbformat": 4,
 "nbformat_minor": 2
}
